{
 "cells": [
  {
   "cell_type": "markdown",
   "id": "0cf95e1b-8fa8-46b4-8ed9-02628e1ba112",
   "metadata": {},
   "source": [
    "# wzlight"
   ]
  },
  {
   "cell_type": "code",
   "execution_count": 11,
   "id": "4d90586f-53a4-456d-bf0d-858347a1dca4",
   "metadata": {},
   "outputs": [],
   "source": [
    "import os\n",
    "import random\n",
    "from pprint import pprint\n",
    "\n",
    "from dotenv import load_dotenv"
   ]
  },
  {
   "cell_type": "code",
   "execution_count": 12,
   "id": "359cb730-cadb-475c-9b43-655ffadc48d0",
   "metadata": {},
   "outputs": [],
   "source": [
    "from wzlight import Api"
   ]
  },
  {
   "cell_type": "code",
   "execution_count": 13,
   "id": "9179a76e-f3d3-4fea-8902-5c1403a9178d",
   "metadata": {},
   "outputs": [],
   "source": [
    "load_dotenv()\n",
    "sso = os.environ[\"SSO\"]\n",
    "username = \"amadevs#1689\"\n",
    "platform = \"battle\""
   ]
  },
  {
   "cell_type": "code",
   "execution_count": 14,
   "id": "bfd4cd1c-66cc-421a-8502-5b8d4737fe73",
   "metadata": {},
   "outputs": [],
   "source": [
    "api = Api(sso)"
   ]
  },
  {
   "cell_type": "code",
   "execution_count": 16,
   "id": "fac087d5-3577-4fda-afbf-77d8c498001d",
   "metadata": {
    "tags": []
   },
   "outputs": [
    {
     "name": "stdout",
     "output_type": "stream",
     "text": [
      "{'engagement': None,\n",
      " 'level': 90.0,\n",
      " 'levelXpGained': 28979.0,\n",
      " 'levelXpRemainder': 13921.0,\n",
      " 'lifetime': {...},\n",
      " 'maxLevel': 1.0,\n",
      " 'maxPrestige': 0.0,\n",
      " 'p': 0.0,\n",
      " 'paragonId': 0.0,\n",
      " 'paragonRank': 0.0,\n",
      " 'platform': 'battle',\n",
      " 'prestige': 0.0,\n",
      " 'prestigeId': 0.0,\n",
      " 's': 0.0,\n",
      " 'title': 'mw',\n",
      " 'totalXp': 1964978.0,\n",
      " 'type': 'wz',\n",
      " 'username': 'amadevs#1689',\n",
      " 'weekly': {...}}\n"
     ]
    }
   ],
   "source": [
    "profile = await api.GetProfile(platform, username)\n",
    "pprint(profile, depth=1)"
   ]
  },
  {
   "cell_type": "code",
   "execution_count": 20,
   "id": "426041ae-07cd-4ca1-a5be-2c30c5563c2e",
   "metadata": {
    "tags": []
   },
   "outputs": [
    {
     "name": "stdout",
     "output_type": "stream",
     "text": [
      "[{'draw': False,\n",
      "  'duration': 906000,\n",
      "  'gameType': 'wz',\n",
      "  'map': 'mp_wz_island',\n",
      "  'matchID': '3196515799358056305',\n",
      "  'mode': 'br_rumble_playlist_wz340/storage_town_clash_title',\n",
      "  'player': {...},\n",
      "  'playerCount': 101,\n",
      "  'playerStats': {...},\n",
      "  'playlistName': None,\n",
      "  'privateMatch': False,\n",
      "  'rankedTeams': None,\n",
      "  'teamCount': 2,\n",
      "  'utcEndSeconds': 1657645348,\n",
      "  'utcStartSeconds': 1657644442,\n",
      "  'version': 1},\n",
      " {'draw': False,\n",
      "  'duration': 790000,\n",
      "  'gameType': 'wz',\n",
      "  'map': 'mp_wz_island',\n",
      "  'matchID': '9179735344120605793',\n",
      "  'mode': 'br_rumble_playlist_wz340/storage_town_clash_title',\n",
      "  'player': {...},\n",
      "  'playerCount': 103,\n",
      "  'playerStats': {...},\n",
      "  'playlistName': None,\n",
      "  'privateMatch': False,\n",
      "  'rankedTeams': None,\n",
      "  'teamCount': 2,\n",
      "  'utcEndSeconds': 1657555881,\n",
      "  'utcStartSeconds': 1657555091,\n",
      "  'version': 1}]\n"
     ]
    }
   ],
   "source": [
    "recent_matches = await api.GetRecentMatches(platform, username)\n",
    "recent_matches_short = [match for match in recent_matches[:2]]\n",
    "pprint(recent_matches_short, depth=2)"
   ]
  },
  {
   "cell_type": "code",
   "execution_count": 21,
   "id": "e7745373-b72c-41b2-8e10-24cebabaf433",
   "metadata": {
    "tags": []
   },
   "outputs": [
    {
     "name": "stdout",
     "output_type": "stream",
     "text": [
      "[{'map': '7688482426490492',\n",
      "  'matchId': '3196515799358056305',\n",
      "  'platform': 'battle',\n",
      "  'timestamp': 1657645348000,\n",
      "  'title': 'mw',\n",
      "  'type': '5283015003912746'},\n",
      " {'map': '7688482426490492',\n",
      "  'matchId': '9179735344120605793',\n",
      "  'platform': 'battle',\n",
      "  'timestamp': 1657555881000,\n",
      "  'title': 'mw',\n",
      "  'type': '5283015003912746'},\n",
      " {'map': '7688482426490492',\n",
      "  'matchId': '14228363742229628989',\n",
      "  'platform': 'battle',\n",
      "  'timestamp': 1657554926000,\n",
      "  'title': 'mw',\n",
      "  'type': '5283015003912746'}]\n"
     ]
    }
   ],
   "source": [
    "matches = await api.GetMatches(platform, username)\n",
    "matches_short = [match for match in matches[:3]]\n",
    "pprint(matches_short)"
   ]
  },
  {
   "cell_type": "code",
   "execution_count": 23,
   "id": "f4cbefc2-6877-447a-ba26-38ed68e19427",
   "metadata": {
    "tags": []
   },
   "outputs": [
    {
     "name": "stdout",
     "output_type": "stream",
     "text": [
      "[{'draw': False,\n",
      "  'duration': 906000,\n",
      "  'gameType': 'wz',\n",
      "  'map': 'mp_wz_island',\n",
      "  'matchID': '3196515799358056305',\n",
      "  'mode': 'br_rumble_playlist_wz340/storage_town_clash_title',\n",
      "  'player': {'awards': {...},\n",
      "             'brMissionStats': {...},\n",
      "             'clantag': 'P20C',\n",
      "             'loadout': [...],\n",
      "             'loadouts': [...],\n",
      "             'rank': 54.0,\n",
      "             'team': 'axis',\n",
      "             'uno': '5742819893498085042',\n",
      "             'username': 'RobotChicken'},\n",
      "  'playerCount': 101,\n",
      "  'playerStats': {'assists': 8.0,\n",
      "                  'bonusXp': 0.0,\n",
      "                  'challengeXp': 0.0,\n",
      "                  'damageDone': 3817.0,\n",
      "                  'damageTaken': 2566.0,\n",
      "                  'deaths': 13.0,\n",
      "                  'distanceTraveled': 928806.94,\n",
      "                  'executions': 0.0,\n",
      "                  'gulagDeaths': 0.0,\n",
      "                  'gulagKills': 0.0,\n",
      "                  'headshots': 0.0,\n",
      "                  'kdRatio': 0.6923076923076923,\n",
      "                  'kills': 9.0,\n",
      "                  'longestStreak': 4.0,\n",
      "                  'matchXp': 7350.0,\n",
      "                  'medalXp': 120.0,\n",
      "                  'miscXp': 0.0,\n",
      "                  'nearmisses': 0.0,\n",
      "                  'percentTimeMoving': 98.16303,\n",
      "                  'rank': 54.0,\n",
      "                  'score': 2050.0,\n",
      "                  'scorePerMinute': 127.06611570247934,\n",
      "                  'scoreXp': 5645.0,\n",
      "                  'teamPlacement': 1.0,\n",
      "                  'teamSurvivalTime': 900000.0,\n",
      "                  'timePlayed': 968.0,\n",
      "                  'totalXp': 13520.0,\n",
      "                  'wallBangs': 0.0},\n",
      "  'playlistName': None,\n",
      "  'privateMatch': False,\n",
      "  'rankedTeams': None,\n",
      "  'teamCount': 2,\n",
      "  'utcEndSeconds': 1657645348,\n",
      "  'utcStartSeconds': 1657644442,\n",
      "  'version': 1},\n",
      " {'draw': False,\n",
      "  'duration': 906000,\n",
      "  'gameType': 'wz',\n",
      "  'map': 'mp_wz_island',\n",
      "  'matchID': '3196515799358056305',\n",
      "  'mode': 'br_rumble_playlist_wz340/storage_town_clash_title',\n",
      "  'player': {'awards': {...},\n",
      "             'brMissionStats': {...},\n",
      "             'clantag': 'HND',\n",
      "             'loadout': [...],\n",
      "             'loadouts': [...],\n",
      "             'rank': 54.0,\n",
      "             'team': 'axis',\n",
      "             'uno': '3813592620193993192',\n",
      "             'username': 'BURNINGBEAST666'},\n",
      "  'playerCount': 101,\n",
      "  'playerStats': {'assists': 5.0,\n",
      "                  'bonusXp': 0.0,\n",
      "                  'challengeXp': 0.0,\n",
      "                  'damageDone': 2966.0,\n",
      "                  'damageTaken': 942.0,\n",
      "                  'deaths': 5.0,\n",
      "                  'distanceTraveled': 371205.56,\n",
      "                  'executions': 0.0,\n",
      "                  'gulagDeaths': 0.0,\n",
      "                  'gulagKills': 0.0,\n",
      "                  'headshots': 1.0,\n",
      "                  'kdRatio': 1.6,\n",
      "                  'kills': 8.0,\n",
      "                  'longestStreak': 4.0,\n",
      "                  'matchXp': 3375.0,\n",
      "                  'medalXp': 60.0,\n",
      "                  'miscXp': 0.0,\n",
      "                  'nearmisses': 0.0,\n",
      "                  'percentTimeMoving': 96.73367,\n",
      "                  'rank': 54.0,\n",
      "                  'score': 1325.0,\n",
      "                  'scorePerMinute': 161.91446028513238,\n",
      "                  'scoreXp': 1690.0,\n",
      "                  'teamPlacement': 1.0,\n",
      "                  'teamSurvivalTime': 900000.0,\n",
      "                  'timePlayed': 491.0,\n",
      "                  'totalXp': 5225.0,\n",
      "                  'wallBangs': 0.0},\n",
      "  'playlistName': None,\n",
      "  'privateMatch': False,\n",
      "  'rankedTeams': None,\n",
      "  'teamCount': 2,\n",
      "  'utcEndSeconds': 1657645348,\n",
      "  'utcStartSeconds': 1657644442,\n",
      "  'version': 1}]\n"
     ]
    }
   ],
   "source": [
    "match_details = await api.GetMatchDetails(platform, matchId=3196515799358056305)\n",
    "match_details_short = [player for player in match_details[:2]]\n",
    "pprint(match_details_short, depth=3)"
   ]
  },
  {
   "cell_type": "code",
   "execution_count": null,
   "id": "0447cc35-d675-4318-a160-eb0da7b44c18",
   "metadata": {},
   "outputs": [],
   "source": []
  }
 ],
 "metadata": {
  "kernelspec": {
   "display_name": "Python 3 (ipykernel)",
   "language": "python",
   "name": "python3"
  },
  "language_info": {
   "codemirror_mode": {
    "name": "ipython",
    "version": 3
   },
   "file_extension": ".py",
   "mimetype": "text/x-python",
   "name": "python",
   "nbconvert_exporter": "python",
   "pygments_lexer": "ipython3",
   "version": "3.10.4"
  }
 },
 "nbformat": 4,
 "nbformat_minor": 5
}
